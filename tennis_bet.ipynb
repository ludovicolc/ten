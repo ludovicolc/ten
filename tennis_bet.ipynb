{
 "cells": [
  {
   "cell_type": "code",
   "execution_count": 31,
   "metadata": {},
   "outputs": [],
   "source": [
    "import pandas as pd\n",
    "import numpy as np\n",
    "import matplotlib.pyplot as plt\n",
    "import scipy\n",
    "\n",
    "# ML\n",
    "from sklearn.model_selection import train_test_split, GridSearchCV, RandomizedSearchCV\n",
    "from sklearn.preprocessing import LabelEncoder, StandardScaler\n",
    "from sklearn.ensemble import RandomForestClassifier, GradientBoostingClassifier, VotingClassifier\n",
    "from sklearn.linear_model import LogisticRegression\n",
    "import joblib\n",
    "\n",
    "import warnings\n",
    "warnings.filterwarnings('ignore')"
   ]
  },
  {
   "cell_type": "code",
   "execution_count": 91,
   "metadata": {},
   "outputs": [],
   "source": [
    "df_ten = pd.read_csv('df_ten.csv')"
   ]
  },
  {
   "cell_type": "code",
   "execution_count": 92,
   "metadata": {},
   "outputs": [
    {
     "data": {
      "text/html": [
       "<div>\n",
       "<style scoped>\n",
       "    .dataframe tbody tr th:only-of-type {\n",
       "        vertical-align: middle;\n",
       "    }\n",
       "\n",
       "    .dataframe tbody tr th {\n",
       "        vertical-align: top;\n",
       "    }\n",
       "\n",
       "    .dataframe thead th {\n",
       "        text-align: right;\n",
       "    }\n",
       "</style>\n",
       "<table border=\"1\" class=\"dataframe\">\n",
       "  <thead>\n",
       "    <tr style=\"text-align: right;\">\n",
       "      <th></th>\n",
       "      <th>A_B365</th>\n",
       "      <th>A_PS</th>\n",
       "      <th>A_Pts</th>\n",
       "      <th>A_Rank</th>\n",
       "      <th>B_B365</th>\n",
       "      <th>B_PS</th>\n",
       "      <th>B_Pts</th>\n",
       "      <th>B_Rank</th>\n",
       "      <th>Best of</th>\n",
       "      <th>Court</th>\n",
       "      <th>...</th>\n",
       "      <th>Surface</th>\n",
       "      <th>vincitore</th>\n",
       "      <th>A_hand</th>\n",
       "      <th>A_dob</th>\n",
       "      <th>A_ioc</th>\n",
       "      <th>A_height</th>\n",
       "      <th>B_hand</th>\n",
       "      <th>B_dob</th>\n",
       "      <th>B_ioc</th>\n",
       "      <th>B_height</th>\n",
       "    </tr>\n",
       "  </thead>\n",
       "  <tbody>\n",
       "    <tr>\n",
       "      <th>0</th>\n",
       "      <td>1.12</td>\n",
       "      <td>1.14</td>\n",
       "      <td>4595.0</td>\n",
       "      <td>4.0</td>\n",
       "      <td>6.0</td>\n",
       "      <td>7.15</td>\n",
       "      <td>716.0</td>\n",
       "      <td>78.0</td>\n",
       "      <td>3</td>\n",
       "      <td>Outdoor</td>\n",
       "      <td>...</td>\n",
       "      <td>Clay</td>\n",
       "      <td>B</td>\n",
       "      <td>R</td>\n",
       "      <td>26</td>\n",
       "      <td>AUT</td>\n",
       "      <td>185.0</td>\n",
       "      <td>R</td>\n",
       "      <td>22</td>\n",
       "      <td>RUS</td>\n",
       "      <td>188.0</td>\n",
       "    </tr>\n",
       "  </tbody>\n",
       "</table>\n",
       "<p>1 rows × 24 columns</p>\n",
       "</div>"
      ],
      "text/plain": [
       "   A_B365  A_PS   A_Pts  A_Rank  B_B365  B_PS  B_Pts  B_Rank  Best of  \\\n",
       "0    1.12  1.14  4595.0     4.0     6.0  7.15  716.0    78.0        3   \n",
       "\n",
       "     Court  ...  Surface vincitore A_hand A_dob A_ioc A_height B_hand  B_dob  \\\n",
       "0  Outdoor  ...     Clay         B      R    26   AUT    185.0      R     22   \n",
       "\n",
       "  B_ioc  B_height  \n",
       "0   RUS     188.0  \n",
       "\n",
       "[1 rows x 24 columns]"
      ]
     },
     "execution_count": 92,
     "metadata": {},
     "output_type": "execute_result"
    }
   ],
   "source": [
    "df_ten.sample(3)"
   ]
  },
  {
   "cell_type": "code",
   "execution_count": 93,
   "metadata": {},
   "outputs": [],
   "source": [
    "df_ten.fillna(df_ten.median(), inplace=True)"
   ]
  },
  {
   "cell_type": "code",
   "execution_count": 94,
   "metadata": {},
   "outputs": [],
   "source": [
    "europa =  ['ESP', 'FRA', 'GER', 'RUS', 'ITA', 'AUS', 'CZE', 'CRO',\n",
    "       'SRB', 'SUI', 'GBR', 'BEL', 'AUT', 'SVK', 'NED', 'SWE', 'ROU',\n",
    "       'FIN', 'POR', 'POL', 'BUL', 'CYP', 'BLR', 'UKR', 'SLO', 'LAT', 'NOR',  'BIH', 'GRE',\n",
    "       'GEO', 'LUX', 'DEN', 'HUN', 'LTU', 'MDA', 'EST', 'IRL', 'BAR', 'ESA']\n",
    "sud_america= ['ARG', 'BRA', 'COL', 'URU', 'ECU', 'PER', 'CHI', 'BOL', 'MEX', 'PAR']\n",
    "nord_america= ['USA', 'CAN']\n",
    "africa = ['RSA', 'TUN', 'MAR', 'TUR', 'EGY', 'ALG', 'ZIM']\n",
    "asia = ['JPN', 'KAZ', 'UZB', 'ISR', 'IND', 'THA', 'KOR', 'ARM', 'CHN', 'TPE', 'PHI', 'MON', 'PAK']\n",
    "oceania = ['NZL']"
   ]
  },
  {
   "cell_type": "code",
   "execution_count": 95,
   "metadata": {},
   "outputs": [],
   "source": [
    "cont_A = []\n",
    "for x in df_ten.A_ioc:\n",
    "    if x in europa:\n",
    "        cont_A.append('europa')\n",
    "    elif x in sud_america:\n",
    "        cont_A.append('sud_america')\n",
    "    elif x in nord_america:\n",
    "        cont_A.append('nord_america')\n",
    "    elif x in africa:\n",
    "        cont_A.append('africa')\n",
    "    elif x in asia:\n",
    "        cont_A.append('asia')\n",
    "    else:\n",
    "        cont_A.append('oceania')\n",
    "\n",
    "df_ten.A_ioc = cont_A"
   ]
  },
  {
   "cell_type": "code",
   "execution_count": 97,
   "metadata": {},
   "outputs": [],
   "source": [
    "cont_B = []\n",
    "for x in df_ten.B_ioc:\n",
    "    if x in europa:\n",
    "        cont_B.append('europa')\n",
    "    elif x in sud_america:\n",
    "        cont_B.append('sud_america')\n",
    "    elif x in nord_america:\n",
    "        cont_B.append('nord_america')\n",
    "    elif x in africa:\n",
    "        cont_B.append('africa')\n",
    "    elif x in asia:\n",
    "        cont_B.append('asia')\n",
    "    else:\n",
    "        cont_B.append('oceania')\n",
    "\n",
    "df_ten.B_ioc = cont_B"
   ]
  },
  {
   "cell_type": "code",
   "execution_count": 111,
   "metadata": {},
   "outputs": [],
   "source": [
    "df_ten['diff_bet'] = df_ten.A_B365 - df_ten.B_B365"
   ]
  },
  {
   "cell_type": "code",
   "execution_count": 112,
   "metadata": {},
   "outputs": [],
   "source": [
    "X, y = df_ten.drop(columns=['vincitore', 'A_PS', 'B_PS', 'Best of', 'Series', 'Court', 'Surface',\n",
    "                            'A_B365', 'B_B365']), df_ten.vincitore"
   ]
  },
  {
   "cell_type": "code",
   "execution_count": 113,
   "metadata": {},
   "outputs": [],
   "source": [
    "X = pd.get_dummies(X, drop_first=True)"
   ]
  },
  {
   "cell_type": "code",
   "execution_count": 114,
   "metadata": {},
   "outputs": [],
   "source": [
    "le = LabelEncoder()\n",
    "y = le.fit_transform(y)"
   ]
  },
  {
   "cell_type": "code",
   "execution_count": 115,
   "metadata": {},
   "outputs": [],
   "source": [
    "X_train, X_test, y_train, y_test = train_test_split(X, y, test_size=0.1, stratify=y, random_state=1)"
   ]
  },
  {
   "cell_type": "code",
   "execution_count": 117,
   "metadata": {},
   "outputs": [
    {
     "data": {
      "image/png": "[encoded data removed]",
      "text/plain": [
       "<Figure size 1400x500 with 1 Axes>"
      ]
     },
     "metadata": {},
     "output_type": "display_data"
    }
   ],
   "source": [
    "forest = RandomForestClassifier(n_estimators=200, max_depth=12)\n",
    "forest.fit(X_train, y_train)\n",
    "\n",
    "importanza = forest.feature_importances_\n",
    "indice = np.argsort(importanza)[::-1]\n",
    "\n",
    "plt.figure(figsize=(14, 5))\n",
    "plt.bar(range(X.shape[1]), importanza[indice])\n",
    "plt.xticks(range(X.shape[1]), X.columns[indice], rotation=90)\n",
    "plt.tight_layout()"
   ]
  },
  {
   "cell_type": "code",
   "execution_count": 118,
   "metadata": {},
   "outputs": [],
   "source": [
    "sc = StandardScaler()\n",
    "X_train_std = sc.fit_transform(X_train)\n",
    "X_test_std = sc.transform(X_test)\n",
    "\n",
    "joblib.dump(sc, 'standard_scaler_joblib')"
   ]
  },
  {
   "cell_type": "code",
   "execution_count": 391,
   "metadata": {},
   "outputs": [
    {
     "name": "stdout",
     "output_type": "stream",
     "text": [
      "Combinazione migliore: {'C': 0.05329484866703377, 'fit_intercept': True, 'l1_ratio': 0.1}\n",
      "Punteggio migliore: 0.6959902094881579\n",
      "Test score: 0.702008205571151\n"
     ]
    }
   ],
   "source": [
    "param_grid = {\n",
    "    'C': scipy.stats.loguniform(0.01, 100.0),\n",
    "    'fit_intercept': [True, False],\n",
    "    'l1_ratio': [0.1, 0.3, 0.5, 0.8, 1.0],\n",
    "    }\n",
    "\n",
    "rgs = RandomizedSearchCV(estimator=LogisticRegression(random_state=1, penalty='elasticnet', solver='saga'), \n",
    "                        param_distributions=param_grid,\n",
    "                        n_iter=50,\n",
    "                        scoring='accuracy',\n",
    "                        cv=3)\n",
    "\n",
    "rgs.fit(X_train_std, y_train)\n",
    "print(f'Combinazione migliore: {rgs.best_params_}')\n",
    "print(f'Punteggio migliore: {rgs.best_score_}')\n",
    "print(f'Test score: {rgs.score(X_test_std, y_test)}')"
   ]
  },
  {
   "cell_type": "code",
   "execution_count": 394,
   "metadata": {},
   "outputs": [
    {
     "name": "stdout",
     "output_type": "stream",
     "text": [
      "Combinazione migliore: {'n_estimators': 366, 'min_samples_split': 5, 'min_samples_leaf': 1, 'max_leaf_nodes': 29, 'max_depth': 21}\n",
      "Punteggio migliore: 0.6923427638998872\n",
      "Test score: 0.6998488447419564\n"
     ]
    }
   ],
   "source": [
    "param_grid = {\n",
    "    'max_depth': list(range(10, 25)),\n",
    "    'n_estimators': list(range(350, 450)),\n",
    "    'max_leaf_nodes': list(range(3, 30)),\n",
    "    'min_samples_leaf': [1, 2, 3, 4, 5],\n",
    "    'min_samples_split': [2, 3, 4, 5]\n",
    "    }\n",
    "\n",
    "rgs = RandomizedSearchCV(estimator=RandomForestClassifier(random_state=1), \n",
    "                        param_distributions=param_grid,\n",
    "                        n_iter=50,\n",
    "                        scoring='accuracy',\n",
    "                        cv=3)\n",
    "\n",
    "rgs.fit(X_train_std, y_train)\n",
    "print(f'Combinazione migliore: {rgs.best_params_}')\n",
    "print(f'Punteggio migliore: {rgs.best_score_}')\n",
    "print(f'Test score: {rgs.score(X_test_std, y_test)}')"
   ]
  },
  {
   "cell_type": "code",
   "execution_count": 392,
   "metadata": {},
   "outputs": [
    {
     "name": "stdout",
     "output_type": "stream",
     "text": [
      "Combinazione migliore: {'ccp_alpha': 8.860274703338875e-08, 'learning_rate': 0.03, 'loss': 'deviance', 'max_depth': 3, 'max_features': 'auto', 'max_leaf_nodes': 26, 'min_samples_leaf': 1, 'min_samples_split': 5, 'n_estimators': 299}\n",
      "Punteggio migliore: 0.6939265231684785\n",
      "Test score: 0.7013603973223925\n"
     ]
    }
   ],
   "source": [
    "param_grid = {\n",
    "    'ccp_alpha': scipy.stats.loguniform(0.00000008, 0.0000001),\n",
    "    'learning_rate': [0.03, 0.05, 0.07],\n",
    "    'loss': ['log_loss', 'deviance', 'exponential'],\n",
    "    'max_depth': [3, 6, 9, 12],\n",
    "    'max_features': [None, 'auto'],\n",
    "    'max_leaf_nodes': list(range(3, 30)),\n",
    "    'min_samples_leaf': [1, 2, 3, 4, 5],\n",
    "    'min_samples_split': [2, 3, 4, 5],\n",
    "    'n_estimators': list(range(250, 450))\n",
    "    }\n",
    "\n",
    "rgs = RandomizedSearchCV(estimator=GradientBoostingClassifier(random_state=1), \n",
    "                        param_distributions=param_grid,\n",
    "                        n_iter=30,\n",
    "                        scoring='accuracy',\n",
    "                        cv=3)\n",
    "\n",
    "rgs.fit(X_train_std, y_train)\n",
    "print(f'Combinazione migliore: {rgs.best_params_}')\n",
    "print(f'Punteggio migliore: {rgs.best_score_}')\n",
    "print(f'Test score: {rgs.score(X_test_std, y_test)}')"
   ]
  },
  {
   "cell_type": "code",
   "execution_count": 119,
   "metadata": {},
   "outputs": [],
   "source": [
    "lr = LogisticRegression(C=0.05329484866703377, fit_intercept=True, l1_ratio=0.1)\n",
    "forest = RandomForestClassifier(n_estimators=366, min_samples_split=5, min_samples_leaf=1, max_leaf_nodes=29, max_depth=21)\n",
    "gb = GradientBoostingClassifier(ccp_alpha=8.860274703338875e-08, learning_rate=0.03, loss='deviance', max_depth=3, max_features='auto', max_leaf_nodes=26, min_samples_leaf=1, min_samples_split=5, n_estimators=299)"
   ]
  },
  {
   "cell_type": "code",
   "execution_count": 397,
   "metadata": {},
   "outputs": [
    {
     "name": "stdout",
     "output_type": "stream",
     "text": [
      "Combinazione migliore: {'weights': [1, 1, 1.2]}\n",
      "Punteggio migliore: 0.6947423991553284\n",
      "Test score: 0.7033038220686677\n"
     ]
    }
   ],
   "source": [
    "param_grid = {\n",
    "    'weights': [[1, 1, 1], [1.2, 1, 1], [1, 1.2, 1], [1, 1, 1.2]]\n",
    "    }\n",
    "gs = GridSearchCV(estimator= VotingClassifier(estimators=[('lr', lr), ('forest', forest), ('gb', gb)], voting='soft'), \n",
    "                  param_grid=param_grid,\n",
    "                  cv=3,\n",
    "                  scoring='accuracy')\n",
    "gs.fit(X_train_std, y_train)\n",
    "print(f'Combinazione migliore: {gs.best_params_}')\n",
    "print(f'Punteggio migliore: {gs.best_score_}')\n",
    "print(f'Test score: {gs.score(X_test_std, y_test)}')"
   ]
  },
  {
   "cell_type": "code",
   "execution_count": 120,
   "metadata": {},
   "outputs": [
    {
     "name": "stdout",
     "output_type": "stream",
     "text": [
      "1 0.7028719499028288\n",
      "2 0.7026560138199093\n",
      "3 0.7037356942345065\n",
      "4 0.7028719499028288\n",
      "5 0.7030878859857482\n",
      "6 0.7041675664003455\n",
      "7 0.7033038220686677\n",
      "8 0.7033038220686677\n",
      "9 0.7033038220686677\n",
      "10 0.7028719499028288\n"
     ]
    }
   ],
   "source": [
    "status = 0\n",
    "best = 0\n",
    "for x in range(10):\n",
    "    vc = VotingClassifier(estimators=[('lr', lr), ('forest', forest), ('gb', gb)], voting='soft', weights=[1, 1, 1.2])\n",
    "    vc.fit(X_train_std, y_train)\n",
    "    score = vc.score(X_test_std, y_test)\n",
    "    \n",
    "    status += 1\n",
    "    print(status, score)\n",
    "    \n",
    "    if score > best:\n",
    "        best = score\n",
    "        joblib.dump(vc, 'vc_clf_joblib')"
   ]
  },
  {
   "cell_type": "code",
   "execution_count": null,
   "metadata": {},
   "outputs": [],
   "source": [
    "best"
   ]
  }
 ],
 "metadata": {
  "kernelspec": {
   "display_name": "Python 3.10.7 64-bit",
   "language": "python",
   "name": "python3"
  },
  "language_info": {
   "codemirror_mode": {
    "name": "ipython",
    "version": 3
   },
   "file_extension": ".py",
   "mimetype": "text/x-python",
   "name": "python",
   "nbconvert_exporter": "python",
   "pygments_lexer": "ipython3",
   "version": "3.10.7"
  },
  "orig_nbformat": 4,
  "vscode": {
   "interpreter": {
    "hash": "e5da1562388db7144884801324541e47d1d46659ed2943533e6859e6cf55c04f"
   }
  }
 },
 "nbformat": 4,
 "nbformat_minor": 2
}
