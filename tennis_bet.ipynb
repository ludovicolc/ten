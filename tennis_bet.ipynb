{
 "cells": [
  {
   "cell_type": "code",
   "execution_count": 1,
   "metadata": {},
   "outputs": [],
   "source": [
    "import pandas as pd\n",
    "import numpy as np\n",
    "import matplotlib.pyplot as plt\n",
    "import scipy\n",
    "import psycopg2\n",
    "# ML\n",
    "from sklearn.model_selection import train_test_split, GridSearchCV, RandomizedSearchCV\n",
    "from sklearn.preprocessing import LabelEncoder, StandardScaler\n",
    "from sklearn.ensemble import RandomForestClassifier, GradientBoostingClassifier, VotingClassifier\n",
    "from sklearn.linear_model import LogisticRegression\n",
    "import joblib\n",
    "# elementi disturbo\n",
    "import warnings\n",
    "warnings.filterwarnings('ignore')"
   ]
  },
  {
   "cell_type": "code",
   "execution_count": 2,
   "metadata": {},
   "outputs": [],
   "source": [
    "conn = psycopg2.connect(host='', user='', database='', password='')"
   ]
  },
  {
   "cell_type": "code",
   "execution_count": 24,
   "metadata": {},
   "outputs": [
    {
     "data": {
      "text/html": [
       "<div>\n",
       "<style scoped>\n",
       "    .dataframe tbody tr th:only-of-type {\n",
       "        vertical-align: middle;\n",
       "    }\n",
       "\n",
       "    .dataframe tbody tr th {\n",
       "        vertical-align: top;\n",
       "    }\n",
       "\n",
       "    .dataframe thead th {\n",
       "        text-align: right;\n",
       "    }\n",
       "</style>\n",
       "<table border=\"1\" class=\"dataframe\">\n",
       "  <thead>\n",
       "    <tr style=\"text-align: right;\">\n",
       "      <th></th>\n",
       "      <th>a_b365</th>\n",
       "      <th>a_ps</th>\n",
       "      <th>a_pts</th>\n",
       "      <th>a_rank</th>\n",
       "      <th>b_b365</th>\n",
       "      <th>b_ps</th>\n",
       "      <th>b_pts</th>\n",
       "      <th>b_rank</th>\n",
       "      <th>best_of</th>\n",
       "      <th>court</th>\n",
       "      <th>...</th>\n",
       "      <th>surface</th>\n",
       "      <th>vincitore</th>\n",
       "      <th>a_hand</th>\n",
       "      <th>a_dob</th>\n",
       "      <th>a_ioc</th>\n",
       "      <th>a_height</th>\n",
       "      <th>b_hand</th>\n",
       "      <th>b_dob</th>\n",
       "      <th>b_ioc</th>\n",
       "      <th>b_height</th>\n",
       "    </tr>\n",
       "  </thead>\n",
       "  <tbody>\n",
       "    <tr>\n",
       "      <th>23520</th>\n",
       "      <td>1.2</td>\n",
       "      <td>1.94</td>\n",
       "      <td>3330.0</td>\n",
       "      <td>9.0</td>\n",
       "      <td>4.33</td>\n",
       "      <td>1.95</td>\n",
       "      <td>396.0</td>\n",
       "      <td>163.0</td>\n",
       "      <td>3.0</td>\n",
       "      <td>Outdoor</td>\n",
       "      <td>...</td>\n",
       "      <td>Hard</td>\n",
       "      <td>A</td>\n",
       "      <td>R</td>\n",
       "      <td>25.0</td>\n",
       "      <td>FRA</td>\n",
       "      <td>183.0</td>\n",
       "      <td>L</td>\n",
       "      <td>26.0</td>\n",
       "      <td>COL</td>\n",
       "      <td>185.0</td>\n",
       "    </tr>\n",
       "    <tr>\n",
       "      <th>691</th>\n",
       "      <td>41.0</td>\n",
       "      <td>51.00</td>\n",
       "      <td>422.0</td>\n",
       "      <td>134.0</td>\n",
       "      <td>1.00</td>\n",
       "      <td>1.01</td>\n",
       "      <td>8860.0</td>\n",
       "      <td>2.0</td>\n",
       "      <td>5.0</td>\n",
       "      <td>Outdoor</td>\n",
       "      <td>...</td>\n",
       "      <td>Hard</td>\n",
       "      <td>B</td>\n",
       "      <td>R</td>\n",
       "      <td>29.0</td>\n",
       "      <td>BRA</td>\n",
       "      <td>178.0</td>\n",
       "      <td>L</td>\n",
       "      <td>27.0</td>\n",
       "      <td>ESP</td>\n",
       "      <td>185.0</td>\n",
       "    </tr>\n",
       "  </tbody>\n",
       "</table>\n",
       "<p>2 rows × 24 columns</p>\n",
       "</div>"
      ],
      "text/plain": [
       "       a_b365   a_ps   a_pts  a_rank  b_b365  b_ps   b_pts  b_rank  best_of  \\\n",
       "23520     1.2   1.94  3330.0     9.0    4.33  1.95   396.0   163.0      3.0   \n",
       "691      41.0  51.00   422.0   134.0    1.00  1.01  8860.0     2.0      5.0   \n",
       "\n",
       "         court  ...  surface vincitore a_hand a_dob a_ioc a_height b_hand  \\\n",
       "23520  Outdoor  ...     Hard         A      R  25.0   FRA    183.0      L   \n",
       "691    Outdoor  ...     Hard         B      R  29.0   BRA    178.0      L   \n",
       "\n",
       "       b_dob b_ioc  b_height  \n",
       "23520   26.0   COL     185.0  \n",
       "691     27.0   ESP     185.0  \n",
       "\n",
       "[2 rows x 24 columns]"
      ]
     },
     "execution_count": 24,
     "metadata": {},
     "output_type": "execute_result"
    }
   ],
   "source": [
    "df_ten = pd.read_sql('select * from df_ten', conn)\n",
    "df_ten.sample(2)"
   ]
  },
  {
   "cell_type": "code",
   "execution_count": 25,
   "metadata": {},
   "outputs": [],
   "source": [
    "europa =  ['ESP', 'FRA', 'GER', 'RUS', 'ITA', 'CZE', 'CRO',\n",
    "       'SRB', 'SUI', 'GBR', 'BEL', 'AUT', 'SVK', 'NED', 'SWE', 'ROU',\n",
    "       'FIN', 'POR', 'POL', 'BUL', 'CYP', 'BLR', 'UKR', 'SLO', 'LAT', 'NOR',  'BIH', 'GRE',\n",
    "       'GEO', 'LUX', 'DEN', 'HUN', 'LTU', 'MDA', 'EST', 'IRL', 'BAR', 'ESA']\n",
    "sud_america= ['ARG', 'BRA', 'COL', 'URU', 'ECU', 'PER', 'CHI', 'BOL', 'MEX', 'PAR']\n",
    "nord_america= ['USA', 'CAN']\n",
    "africa = ['RSA', 'TUN', 'MAR', 'TUR', 'EGY', 'ALG', 'ZIM']\n",
    "asia = ['JPN', 'KAZ', 'UZB', 'ISR', 'IND', 'THA', 'KOR', 'ARM', 'CHN', 'TPE', 'PHI', 'MON', 'PAK']\n",
    "oceania = ['NZL', 'AUS']"
   ]
  },
  {
   "cell_type": "code",
   "execution_count": 26,
   "metadata": {},
   "outputs": [],
   "source": [
    "cont_a = []\n",
    "for x in df_ten.a_ioc:\n",
    "    if x in europa:\n",
    "        cont_a.append('europa')\n",
    "    elif x in sud_america:\n",
    "        cont_a.append('sud_america')\n",
    "    elif x in nord_america:\n",
    "        cont_a.append('nord_america')\n",
    "    elif x in africa:\n",
    "        cont_a.append('africa')\n",
    "    elif x in asia:\n",
    "        cont_a.append('asia')\n",
    "    else:\n",
    "        cont_a.append('oceania')\n",
    "\n",
    "df_ten.a_ioc = cont_a"
   ]
  },
  {
   "cell_type": "code",
   "execution_count": 27,
   "metadata": {},
   "outputs": [],
   "source": [
    "cont_b = []\n",
    "for x in df_ten.b_ioc:\n",
    "    if x in europa:\n",
    "        cont_b.append('europa')\n",
    "    elif x in sud_america:\n",
    "        cont_b.append('sud_america')\n",
    "    elif x in nord_america:\n",
    "        cont_b.append('nord_america')\n",
    "    elif x in africa:\n",
    "        cont_b.append('africa')\n",
    "    elif x in asia:\n",
    "        cont_b.append('asia')\n",
    "    else:\n",
    "        cont_b.append('oceania')\n",
    "\n",
    "df_ten.b_ioc = cont_b"
   ]
  },
  {
   "cell_type": "code",
   "execution_count": 28,
   "metadata": {},
   "outputs": [],
   "source": [
    "df_ten['diff_pts'] = df_ten.a_pts - df_ten.b_pts\n",
    "df_ten['diff_rank'] = df_ten.a_rank - df_ten.b_rank\n",
    "df_ten['diff_dob'] = df_ten.a_dob - df_ten.b_dob"
   ]
  },
  {
   "cell_type": "code",
   "execution_count": 29,
   "metadata": {},
   "outputs": [
    {
     "name": "stdout",
     "output_type": "stream",
     "text": [
      "<class 'pandas.core.frame.DataFrame'>\n",
      "RangeIndex: 46304 entries, 0 to 46303\n",
      "Data columns (total 27 columns):\n",
      " #   Column     Non-Null Count  Dtype  \n",
      "---  ------     --------------  -----  \n",
      " 0   a_b365     46304 non-null  float64\n",
      " 1   a_ps       46304 non-null  float64\n",
      " 2   a_pts      46304 non-null  float64\n",
      " 3   a_rank     46304 non-null  float64\n",
      " 4   b_b365     46304 non-null  float64\n",
      " 5   b_ps       46304 non-null  float64\n",
      " 6   b_pts      46304 non-null  float64\n",
      " 7   b_rank     46304 non-null  float64\n",
      " 8   best_of    46304 non-null  float64\n",
      " 9   court      46304 non-null  object \n",
      " 10  date       46304 non-null  float64\n",
      " 11  location   46304 non-null  object \n",
      " 12  round      46304 non-null  object \n",
      " 13  series     46304 non-null  object \n",
      " 14  surface    46304 non-null  object \n",
      " 15  vincitore  46304 non-null  object \n",
      " 16  a_hand     46304 non-null  object \n",
      " 17  a_dob      46304 non-null  float64\n",
      " 18  a_ioc      46304 non-null  object \n",
      " 19  a_height   46304 non-null  float64\n",
      " 20  b_hand     46304 non-null  object \n",
      " 21  b_dob      46304 non-null  float64\n",
      " 22  b_ioc      46304 non-null  object \n",
      " 23  b_height   46304 non-null  float64\n",
      " 24  diff_pts   46304 non-null  float64\n",
      " 25  diff_rank  46304 non-null  float64\n",
      " 26  diff_dob   46304 non-null  float64\n",
      "dtypes: float64(17), object(10)\n",
      "memory usage: 9.5+ MB\n"
     ]
    }
   ],
   "source": [
    "df_ten.info()"
   ]
  },
  {
   "cell_type": "code",
   "execution_count": 30,
   "metadata": {},
   "outputs": [],
   "source": [
    "X, y = df_ten.drop(columns=['vincitore', 'a_ps', 'b_ps', 'best_of', 'series', 'court', 'surface',\n",
    "                            'a_b365', 'b_b365']), df_ten.vincitore"
   ]
  },
  {
   "cell_type": "code",
   "execution_count": 31,
   "metadata": {},
   "outputs": [],
   "source": [
    "X = pd.get_dummies(X, drop_first=True)"
   ]
  },
  {
   "cell_type": "code",
   "execution_count": 32,
   "metadata": {},
   "outputs": [],
   "source": [
    "le = LabelEncoder()\n",
    "y = le.fit_transform(y)"
   ]
  },
  {
   "cell_type": "code",
   "execution_count": 33,
   "metadata": {},
   "outputs": [],
   "source": [
    "X_train, X_test, y_train, y_test = train_test_split(X, y, test_size=0.1, stratify=y, random_state=1)"
   ]
  },
  {
   "cell_type": "code",
   "execution_count": 34,
   "metadata": {},
   "outputs": [
    {
     "data": {
      "image/png": "[encoded data removed]",
      "text/plain": [
       "<Figure size 1400x500 with 1 Axes>"
      ]
     },
     "metadata": {},
     "output_type": "display_data"
    }
   ],
   "source": [
    "forest = RandomForestClassifier(n_estimators=200, max_depth=15)\n",
    "forest.fit(X_train, y_train)\n",
    "\n",
    "importanza = forest.feature_importances_\n",
    "indice = np.argsort(importanza)[::-1]\n",
    "\n",
    "plt.figure(figsize=(14, 5))\n",
    "plt.bar(range(X.shape[1]), importanza[indice])\n",
    "plt.xticks(range(X.shape[1]), X.columns[indice], rotation=90)\n",
    "plt.tight_layout()"
   ]
  },
  {
   "cell_type": "code",
   "execution_count": 21,
   "metadata": {},
   "outputs": [],
   "source": [
    "sca = StandardScaler()\n",
    "X_train_std = sca.fit_transform(X_train)\n",
    "X_test_std = sca.transform(X_test)"
   ]
  },
  {
   "cell_type": "code",
   "execution_count": 49,
   "metadata": {},
   "outputs": [
    {
     "data": {
      "text/plain": [
       "['standard_scaler_b_joblib']"
      ]
     },
     "execution_count": 49,
     "metadata": {},
     "output_type": "execute_result"
    }
   ],
   "source": [
    "joblib.dump(sca, 'standard_scaler_b_joblib')"
   ]
  },
  {
   "cell_type": "code",
   "execution_count": 37,
   "metadata": {},
   "outputs": [
    {
     "name": "stdout",
     "output_type": "stream",
     "text": [
      "Combinazione migliore: {'C': 0.03747126632776505, 'fit_intercept': True, 'l1_ratio': 1.0}\n",
      "Punteggio migliore: 0.6553403882609844\n",
      "Test score: 0.6566616281580652\n"
     ]
    }
   ],
   "source": [
    "param_grid = {\n",
    "    'C': scipy.stats.loguniform(0.01, 100.0),\n",
    "    'fit_intercept': [True, False],\n",
    "    'l1_ratio': [0.1, 0.3, 0.5, 0.8, 1.0],\n",
    "    }\n",
    "\n",
    "rgs = RandomizedSearchCV(estimator=LogisticRegression(random_state=1, penalty='elasticnet', solver='saga'), \n",
    "                        param_distributions=param_grid,\n",
    "                        n_iter=50,\n",
    "                        scoring='accuracy',\n",
    "                        cv=3)\n",
    "\n",
    "rgs.fit(X_train_std, y_train)\n",
    "print(f'Combinazione migliore: {rgs.best_params_}')\n",
    "print(f'Punteggio migliore: {rgs.best_score_}')\n",
    "print(f'Test score: {rgs.score(X_test_std, y_test)}')"
   ]
  },
  {
   "cell_type": "code",
   "execution_count": 38,
   "metadata": {},
   "outputs": [
    {
     "name": "stdout",
     "output_type": "stream",
     "text": [
      "Combinazione migliore: {'n_estimators': 430, 'min_samples_split': 2, 'min_samples_leaf': 3, 'max_leaf_nodes': 27, 'max_depth': 20}\n",
      "Punteggio migliore: 0.654092577928155\n",
      "Test score: 0.6557978838263874\n"
     ]
    }
   ],
   "source": [
    "param_grid = {\n",
    "    'max_depth': list(range(10, 25)),\n",
    "    'n_estimators': list(range(350, 450)),\n",
    "    'max_leaf_nodes': list(range(3, 30)),\n",
    "    'min_samples_leaf': [1, 2, 3, 4, 5],\n",
    "    'min_samples_split': [2, 3, 4, 5]\n",
    "    }\n",
    "\n",
    "rgs = RandomizedSearchCV(estimator=RandomForestClassifier(random_state=1), \n",
    "                        param_distributions=param_grid,\n",
    "                        n_iter=50,\n",
    "                        scoring='accuracy',\n",
    "                        cv=3)\n",
    "\n",
    "rgs.fit(X_train_std, y_train)\n",
    "print(f'Combinazione migliore: {rgs.best_params_}')\n",
    "print(f'Punteggio migliore: {rgs.best_score_}')\n",
    "print(f'Test score: {rgs.score(X_test_std, y_test)}')"
   ]
  },
  {
   "cell_type": "code",
   "execution_count": 39,
   "metadata": {},
   "outputs": [
    {
     "name": "stdout",
     "output_type": "stream",
     "text": [
      "Combinazione migliore: {'ccp_alpha': 9.14582675136472e-08, 'learning_rate': 0.05, 'loss': 'exponential', 'max_depth': 9, 'max_features': None, 'max_leaf_nodes': 15, 'min_samples_leaf': 1, 'min_samples_split': 4, 'n_estimators': 253}\n",
      "Punteggio migliore: 0.6579799870419697\n",
      "Test score: 0.6532066508313539\n"
     ]
    }
   ],
   "source": [
    "param_grid = {\n",
    "    'ccp_alpha': scipy.stats.loguniform(0.00000008, 0.0000001),\n",
    "    'learning_rate': [0.03, 0.05, 0.07],\n",
    "    'loss': ['log_loss', 'deviance', 'exponential'],\n",
    "    'max_depth': [3, 6, 9, 12],\n",
    "    'max_features': [None, 'auto'],\n",
    "    'max_leaf_nodes': list(range(3, 30)),\n",
    "    'min_samples_leaf': [1, 2, 3, 4, 5],\n",
    "    'min_samples_split': [2, 3, 4, 5],\n",
    "    'n_estimators': list(range(250, 450))\n",
    "    }\n",
    "\n",
    "rgs = RandomizedSearchCV(estimator=GradientBoostingClassifier(random_state=1), \n",
    "                        param_distributions=param_grid,\n",
    "                        n_iter=30,\n",
    "                        scoring='accuracy',\n",
    "                        cv=3)\n",
    "\n",
    "rgs.fit(X_train_std, y_train)\n",
    "print(f'Combinazione migliore: {rgs.best_params_}')\n",
    "print(f'Punteggio migliore: {rgs.best_score_}')\n",
    "print(f'Test score: {rgs.score(X_test_std, y_test)}')"
   ]
  },
  {
   "cell_type": "code",
   "execution_count": 46,
   "metadata": {},
   "outputs": [],
   "source": [
    "lr = LogisticRegression(C=0.03747126632776505, fit_intercept=True, l1_ratio=1)\n",
    "forest = RandomForestClassifier(n_estimators=430, min_samples_split=2, min_samples_leaf=3, max_leaf_nodes=27, max_depth=20)\n",
    "gb = GradientBoostingClassifier(ccp_alpha=9.14582675136472e-08, learning_rate=0.05, loss='exponential', max_depth=9, max_features=None, max_leaf_nodes=15,\n",
    "                                min_samples_leaf=1, min_samples_split=4, n_estimators=253)"
   ]
  },
  {
   "cell_type": "code",
   "execution_count": 47,
   "metadata": {},
   "outputs": [
    {
     "name": "stdout",
     "output_type": "stream",
     "text": [
      "Combinazione migliore: {'weights': [1.2, 1, 1]}\n",
      "Punteggio migliore: 0.6567321767091402\n",
      "Test score: 0.6557978838263874\n"
     ]
    }
   ],
   "source": [
    "param_grid = {\n",
    "    'weights': [[1, 1, 1], [1.2, 1, 1], [1, 1.2, 1], [1, 1, 1.2]]\n",
    "    }\n",
    "gs = GridSearchCV(estimator= VotingClassifier(estimators=[('lr', lr), ('forest', forest), ('gb', gb)], voting='soft'), \n",
    "                  param_grid=param_grid,\n",
    "                  cv=3,\n",
    "                  scoring='accuracy')\n",
    "gs.fit(X_train_std, y_train)\n",
    "print(f'Combinazione migliore: {gs.best_params_}')\n",
    "print(f'Punteggio migliore: {gs.best_score_}')\n",
    "print(f'Test score: {gs.score(X_test_std, y_test)}')"
   ]
  },
  {
   "cell_type": "code",
   "execution_count": 48,
   "metadata": {},
   "outputs": [
    {
     "name": "stdout",
     "output_type": "stream",
     "text": [
      "1 0.6540703951630318\n",
      "2 0.6547182034117901\n",
      "3 0.6542863312459511\n",
      "4 0.6538544590801123\n",
      "5 0.6549341394947096\n",
      "6 0.6549341394947096\n",
      "7 0.6547182034117901\n",
      "8 0.6540703951630318\n",
      "9 0.6547182034117901\n",
      "10 0.655150075577629\n"
     ]
    }
   ],
   "source": [
    "status = 0\n",
    "best = 0\n",
    "for x in range(10):\n",
    "    vc = VotingClassifier(estimators=[('lr', lr), ('forest', forest), ('gb', gb)], voting='soft', weights=[1, 1, 1.2])\n",
    "    vc.fit(X_train_std, y_train)\n",
    "    score = vc.score(X_test_std, y_test)\n",
    "    \n",
    "    status += 1\n",
    "    print(status, score)\n",
    "    \n",
    "    if score > best:\n",
    "        best = score\n",
    "        joblib.dump(vc, 'vc_b_clf_joblib')"
   ]
  },
  {
   "cell_type": "code",
   "execution_count": 50,
   "metadata": {},
   "outputs": [],
   "source": [
    "conn.close()"
   ]
  }
 ],
 "metadata": {
  "kernelspec": {
   "display_name": "Python 3.10.7 64-bit",
   "language": "python",
   "name": "python3"
  },
  "language_info": {
   "codemirror_mode": {
    "name": "ipython",
    "version": 3
   },
   "file_extension": ".py",
   "mimetype": "text/x-python",
   "name": "python",
   "nbconvert_exporter": "python",
   "pygments_lexer": "ipython3",
   "version": "3.10.7"
  },
  "orig_nbformat": 4,
  "vscode": {
   "interpreter": {
    "hash": "e5da1562388db7144884801324541e47d1d46659ed2943533e6859e6cf55c04f"
   }
  }
 },
 "nbformat": 4,
 "nbformat_minor": 2
}
