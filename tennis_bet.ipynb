{
 "cells": [
  {
   "cell_type": "code",
   "execution_count": 4,
   "metadata": {},
   "outputs": [],
   "source": [
    "import pandas as pd\n",
    "import numpy as np\n",
    "import matplotlib.pyplot as plt\n",
    "import scipy\n",
    "import psycopg2\n",
    "# ML\n",
    "from sklearn.model_selection import train_test_split, GridSearchCV, RandomizedSearchCV\n",
    "from sklearn.preprocessing import LabelEncoder, StandardScaler\n",
    "from sklearn.ensemble import RandomForestClassifier, GradientBoostingClassifier, VotingClassifier\n",
    "from sklearn.linear_model import LogisticRegression\n",
    "import joblib\n",
    "# elementi disturbo\n",
    "import warnings\n",
    "warnings.filterwarnings('ignore')"
   ]
  },
  {
   "cell_type": "code",
   "execution_count": 6,
   "metadata": {},
   "outputs": [],
   "source": [
    "conn = psycopg2.connect(host='localhost', user='postgres', database='tennis', password='')"
   ]
  },
  {
   "cell_type": "code",
   "execution_count": 7,
   "metadata": {},
   "outputs": [
    {
     "data": {
      "text/html": [
       "<div>\n",
       "<style scoped>\n",
       "    .dataframe tbody tr th:only-of-type {\n",
       "        vertical-align: middle;\n",
       "    }\n",
       "\n",
       "    .dataframe tbody tr th {\n",
       "        vertical-align: top;\n",
       "    }\n",
       "\n",
       "    .dataframe thead th {\n",
       "        text-align: right;\n",
       "    }\n",
       "</style>\n",
       "<table border=\"1\" class=\"dataframe\">\n",
       "  <thead>\n",
       "    <tr style=\"text-align: right;\">\n",
       "      <th></th>\n",
       "      <th>a_b365</th>\n",
       "      <th>a_ps</th>\n",
       "      <th>a_pts</th>\n",
       "      <th>a_rank</th>\n",
       "      <th>b_b365</th>\n",
       "      <th>b_ps</th>\n",
       "      <th>b_pts</th>\n",
       "      <th>b_rank</th>\n",
       "      <th>best_of</th>\n",
       "      <th>court</th>\n",
       "      <th>...</th>\n",
       "      <th>surface</th>\n",
       "      <th>vincitore</th>\n",
       "      <th>a_hand</th>\n",
       "      <th>a_dob</th>\n",
       "      <th>a_ioc</th>\n",
       "      <th>a_height</th>\n",
       "      <th>b_hand</th>\n",
       "      <th>b_dob</th>\n",
       "      <th>b_ioc</th>\n",
       "      <th>b_height</th>\n",
       "    </tr>\n",
       "  </thead>\n",
       "  <tbody>\n",
       "    <tr>\n",
       "      <th>2110</th>\n",
       "      <td>4.00</td>\n",
       "      <td>4.25</td>\n",
       "      <td>825.0</td>\n",
       "      <td>43.0</td>\n",
       "      <td>1.22</td>\n",
       "      <td>1.282</td>\n",
       "      <td>1530.0</td>\n",
       "      <td>15.0</td>\n",
       "      <td>5.0</td>\n",
       "      <td>Outdoor</td>\n",
       "      <td>...</td>\n",
       "      <td>Hard</td>\n",
       "      <td>B</td>\n",
       "      <td>R</td>\n",
       "      <td>28.0</td>\n",
       "      <td>CHI</td>\n",
       "      <td>183.0</td>\n",
       "      <td>R</td>\n",
       "      <td>20.0</td>\n",
       "      <td>SRB</td>\n",
       "      <td>188.0</td>\n",
       "    </tr>\n",
       "    <tr>\n",
       "      <th>18051</th>\n",
       "      <td>2.75</td>\n",
       "      <td>2.76</td>\n",
       "      <td>538.0</td>\n",
       "      <td>99.0</td>\n",
       "      <td>1.40</td>\n",
       "      <td>1.500</td>\n",
       "      <td>488.0</td>\n",
       "      <td>109.0</td>\n",
       "      <td>3.0</td>\n",
       "      <td>Outdoor</td>\n",
       "      <td>...</td>\n",
       "      <td>Hard</td>\n",
       "      <td>B</td>\n",
       "      <td>R</td>\n",
       "      <td>34.0</td>\n",
       "      <td>USA</td>\n",
       "      <td>185.0</td>\n",
       "      <td>R</td>\n",
       "      <td>25.0</td>\n",
       "      <td>LAT</td>\n",
       "      <td>190.0</td>\n",
       "    </tr>\n",
       "  </tbody>\n",
       "</table>\n",
       "<p>2 rows × 24 columns</p>\n",
       "</div>"
      ],
      "text/plain": [
       "       a_b365  a_ps  a_pts  a_rank  b_b365   b_ps   b_pts  b_rank  best_of  \\\n",
       "2110     4.00  4.25  825.0    43.0    1.22  1.282  1530.0    15.0      5.0   \n",
       "18051    2.75  2.76  538.0    99.0    1.40  1.500   488.0   109.0      3.0   \n",
       "\n",
       "         court  ...  surface vincitore a_hand a_dob a_ioc a_height b_hand  \\\n",
       "2110   Outdoor  ...     Hard         B      R  28.0   CHI    183.0      R   \n",
       "18051  Outdoor  ...     Hard         B      R  34.0   USA    185.0      R   \n",
       "\n",
       "       b_dob b_ioc  b_height  \n",
       "2110    20.0   SRB     188.0  \n",
       "18051   25.0   LAT     190.0  \n",
       "\n",
       "[2 rows x 24 columns]"
      ]
     },
     "execution_count": 7,
     "metadata": {},
     "output_type": "execute_result"
    }
   ],
   "source": [
    "df_ten = pd.read_sql('select * from df_ten', conn)\n",
    "df_ten.sample(2)"
   ]
  },
  {
   "cell_type": "code",
   "execution_count": 8,
   "metadata": {},
   "outputs": [
    {
     "name": "stdout",
     "output_type": "stream",
     "text": [
      "<class 'pandas.core.frame.DataFrame'>\n",
      "RangeIndex: 46304 entries, 0 to 46303\n",
      "Data columns (total 24 columns):\n",
      " #   Column     Non-Null Count  Dtype  \n",
      "---  ------     --------------  -----  \n",
      " 0   a_b365     46304 non-null  float64\n",
      " 1   a_ps       46304 non-null  float64\n",
      " 2   a_pts      46304 non-null  float64\n",
      " 3   a_rank     46304 non-null  float64\n",
      " 4   b_b365     46304 non-null  float64\n",
      " 5   b_ps       46304 non-null  float64\n",
      " 6   b_pts      46304 non-null  float64\n",
      " 7   b_rank     46304 non-null  float64\n",
      " 8   best_of    46304 non-null  float64\n",
      " 9   court      46304 non-null  object \n",
      " 10  date       46304 non-null  float64\n",
      " 11  location   46304 non-null  object \n",
      " 12  round      46304 non-null  object \n",
      " 13  series     46304 non-null  object \n",
      " 14  surface    46304 non-null  object \n",
      " 15  vincitore  46304 non-null  object \n",
      " 16  a_hand     46304 non-null  object \n",
      " 17  a_dob      46304 non-null  float64\n",
      " 18  a_ioc      46304 non-null  object \n",
      " 19  a_height   46304 non-null  float64\n",
      " 20  b_hand     46304 non-null  object \n",
      " 21  b_dob      46304 non-null  float64\n",
      " 22  b_ioc      46304 non-null  object \n",
      " 23  b_height   46304 non-null  float64\n",
      "dtypes: float64(14), object(10)\n",
      "memory usage: 8.5+ MB\n"
     ]
    }
   ],
   "source": [
    "df_ten.info()"
   ]
  },
  {
   "cell_type": "code",
   "execution_count": null,
   "metadata": {},
   "outputs": [],
   "source": [
    "europa =  ['ESP', 'FRA', 'GER', 'RUS', 'ITA', 'CZE', 'CRO',\n",
    "       'SRB', 'SUI', 'GBR', 'BEL', 'AUT', 'SVK', 'NED', 'SWE', 'ROU',\n",
    "       'FIN', 'POR', 'POL', 'BUL', 'CYP', 'BLR', 'UKR', 'SLO', 'LAT', 'NOR',  'BIH', 'GRE',\n",
    "       'GEO', 'LUX', 'DEN', 'HUN', 'LTU', 'MDA', 'EST', 'IRL', 'BAR', 'ESA']\n",
    "sud_america= ['ARG', 'BRA', 'COL', 'URU', 'ECU', 'PER', 'CHI', 'BOL', 'MEX', 'PAR']\n",
    "nord_america= ['USA', 'CAN']\n",
    "africa = ['RSA', 'TUN', 'MAR', 'TUR', 'EGY', 'ALG', 'ZIM']\n",
    "asia = ['JPN', 'KAZ', 'UZB', 'ISR', 'IND', 'THA', 'KOR', 'ARM', 'CHN', 'TPE', 'PHI', 'MON', 'PAK']\n",
    "oceania = ['NZL', 'AUS']"
   ]
  },
  {
   "cell_type": "code",
   "execution_count": 12,
   "metadata": {},
   "outputs": [],
   "source": [
    "cont_a = []\n",
    "for x in df_ten.a_ioc:\n",
    "    if x in europa:\n",
    "        cont_a.append('europa')\n",
    "    elif x in sud_america:\n",
    "        cont_a.append('sud_america')\n",
    "    elif x in nord_america:\n",
    "        cont_a.append('nord_america')\n",
    "    elif x in africa:\n",
    "        cont_a.append('africa')\n",
    "    elif x in asia:\n",
    "        cont_a.append('asia')\n",
    "    else:\n",
    "        cont_a.append('oceania')\n",
    "\n",
    "df_ten.a_ioc = cont_a"
   ]
  },
  {
   "cell_type": "code",
   "execution_count": 13,
   "metadata": {},
   "outputs": [],
   "source": [
    "cont_b = []\n",
    "for x in df_ten.b_ioc:\n",
    "    if x in europa:\n",
    "        cont_b.append('europa')\n",
    "    elif x in sud_america:\n",
    "        cont_b.append('sud_america')\n",
    "    elif x in nord_america:\n",
    "        cont_b.append('nord_america')\n",
    "    elif x in africa:\n",
    "        cont_b.append('africa')\n",
    "    elif x in asia:\n",
    "        cont_b.append('asia')\n",
    "    else:\n",
    "        cont_b.append('oceania')\n",
    "\n",
    "df_ten.b_ioc = cont_b"
   ]
  },
  {
   "cell_type": "code",
   "execution_count": 14,
   "metadata": {},
   "outputs": [],
   "source": [
    "df_ten['diff_bet'] = df_ten.a_b365 - df_ten.b_b365"
   ]
  },
  {
   "cell_type": "code",
   "execution_count": 15,
   "metadata": {},
   "outputs": [],
   "source": [
    "X, y = df_ten.drop(columns=['vincitore', 'a_ps', 'b_ps', 'best_of', 'series', 'court', 'surface',\n",
    "                            'a_b365', 'b_b365']), df_ten.vincitore"
   ]
  },
  {
   "cell_type": "code",
   "execution_count": 16,
   "metadata": {},
   "outputs": [],
   "source": [
    "X = pd.get_dummies(X, drop_first=True)"
   ]
  },
  {
   "cell_type": "code",
   "execution_count": 17,
   "metadata": {},
   "outputs": [],
   "source": [
    "le = LabelEncoder()\n",
    "y = le.fit_transform(y)"
   ]
  },
  {
   "cell_type": "code",
   "execution_count": 18,
   "metadata": {},
   "outputs": [],
   "source": [
    "X_train, X_test, y_train, y_test = train_test_split(X, y, test_size=0.1, stratify=y, random_state=1)"
   ]
  },
  {
   "cell_type": "code",
   "execution_count": 22,
   "metadata": {},
   "outputs": [
    {
     "data": {
      "image/png": "[encoded data removed]",
      "text/plain": [
       "<Figure size 1400x500 with 1 Axes>"
      ]
     },
     "metadata": {},
     "output_type": "display_data"
    }
   ],
   "source": [
    "forest = RandomForestClassifier(n_estimators=200, max_depth=15)\n",
    "forest.fit(X_train, y_train)\n",
    "\n",
    "importanza = forest.feature_importances_\n",
    "indice = np.argsort(importanza)[::-1]\n",
    "\n",
    "plt.figure(figsize=(14, 5))\n",
    "plt.bar(range(X.shape[1]), importanza[indice])\n",
    "plt.xticks(range(X.shape[1]), X.columns[indice], rotation=90)\n",
    "plt.tight_layout()"
   ]
  },
  {
   "cell_type": "code",
   "execution_count": 20,
   "metadata": {},
   "outputs": [
    {
     "data": {
      "text/plain": [
       "['standard_scaler_joblib']"
      ]
     },
     "execution_count": 20,
     "metadata": {},
     "output_type": "execute_result"
    }
   ],
   "source": [
    "sc = StandardScaler()\n",
    "X_train_std = sc.fit_transform(X_train)\n",
    "X_test_std = sc.transform(X_test)\n",
    "\n",
    "joblib.dump(sc, 'standard_scaler_joblib')"
   ]
  },
  {
   "cell_type": "code",
   "execution_count": 391,
   "metadata": {},
   "outputs": [
    {
     "name": "stdout",
     "output_type": "stream",
     "text": [
      "Combinazione migliore: {'C': 0.05329484866703377, 'fit_intercept': True, 'l1_ratio': 0.1}\n",
      "Punteggio migliore: 0.6959902094881579\n",
      "Test score: 0.702008205571151\n"
     ]
    }
   ],
   "source": [
    "param_grid = {\n",
    "    'C': scipy.stats.loguniform(0.01, 100.0),\n",
    "    'fit_intercept': [True, False],\n",
    "    'l1_ratio': [0.1, 0.3, 0.5, 0.8, 1.0],\n",
    "    }\n",
    "\n",
    "rgs = RandomizedSearchCV(estimator=LogisticRegression(random_state=1, penalty='elasticnet', solver='saga'), \n",
    "                        param_distributions=param_grid,\n",
    "                        n_iter=50,\n",
    "                        scoring='accuracy',\n",
    "                        cv=3)\n",
    "\n",
    "rgs.fit(X_train_std, y_train)\n",
    "print(f'Combinazione migliore: {rgs.best_params_}')\n",
    "print(f'Punteggio migliore: {rgs.best_score_}')\n",
    "print(f'Test score: {rgs.score(X_test_std, y_test)}')"
   ]
  },
  {
   "cell_type": "code",
   "execution_count": 394,
   "metadata": {},
   "outputs": [
    {
     "name": "stdout",
     "output_type": "stream",
     "text": [
      "Combinazione migliore: {'n_estimators': 366, 'min_samples_split': 5, 'min_samples_leaf': 1, 'max_leaf_nodes': 29, 'max_depth': 21}\n",
      "Punteggio migliore: 0.6923427638998872\n",
      "Test score: 0.6998488447419564\n"
     ]
    }
   ],
   "source": [
    "param_grid = {\n",
    "    'max_depth': list(range(10, 25)),\n",
    "    'n_estimators': list(range(350, 450)),\n",
    "    'max_leaf_nodes': list(range(3, 30)),\n",
    "    'min_samples_leaf': [1, 2, 3, 4, 5],\n",
    "    'min_samples_split': [2, 3, 4, 5]\n",
    "    }\n",
    "\n",
    "rgs = RandomizedSearchCV(estimator=RandomForestClassifier(random_state=1), \n",
    "                        param_distributions=param_grid,\n",
    "                        n_iter=50,\n",
    "                        scoring='accuracy',\n",
    "                        cv=3)\n",
    "\n",
    "rgs.fit(X_train_std, y_train)\n",
    "print(f'Combinazione migliore: {rgs.best_params_}')\n",
    "print(f'Punteggio migliore: {rgs.best_score_}')\n",
    "print(f'Test score: {rgs.score(X_test_std, y_test)}')"
   ]
  },
  {
   "cell_type": "code",
   "execution_count": 392,
   "metadata": {},
   "outputs": [
    {
     "name": "stdout",
     "output_type": "stream",
     "text": [
      "Combinazione migliore: {'ccp_alpha': 8.860274703338875e-08, 'learning_rate': 0.03, 'loss': 'deviance', 'max_depth': 3, 'max_features': 'auto', 'max_leaf_nodes': 26, 'min_samples_leaf': 1, 'min_samples_split': 5, 'n_estimators': 299}\n",
      "Punteggio migliore: 0.6939265231684785\n",
      "Test score: 0.7013603973223925\n"
     ]
    }
   ],
   "source": [
    "param_grid = {\n",
    "    'ccp_alpha': scipy.stats.loguniform(0.00000008, 0.0000001),\n",
    "    'learning_rate': [0.03, 0.05, 0.07],\n",
    "    'loss': ['log_loss', 'deviance', 'exponential'],\n",
    "    'max_depth': [3, 6, 9, 12],\n",
    "    'max_features': [None, 'auto'],\n",
    "    'max_leaf_nodes': list(range(3, 30)),\n",
    "    'min_samples_leaf': [1, 2, 3, 4, 5],\n",
    "    'min_samples_split': [2, 3, 4, 5],\n",
    "    'n_estimators': list(range(250, 450))\n",
    "    }\n",
    "\n",
    "rgs = RandomizedSearchCV(estimator=GradientBoostingClassifier(random_state=1), \n",
    "                        param_distributions=param_grid,\n",
    "                        n_iter=30,\n",
    "                        scoring='accuracy',\n",
    "                        cv=3)\n",
    "\n",
    "rgs.fit(X_train_std, y_train)\n",
    "print(f'Combinazione migliore: {rgs.best_params_}')\n",
    "print(f'Punteggio migliore: {rgs.best_score_}')\n",
    "print(f'Test score: {rgs.score(X_test_std, y_test)}')"
   ]
  },
  {
   "cell_type": "code",
   "execution_count": 21,
   "metadata": {},
   "outputs": [],
   "source": [
    "lr = LogisticRegression(C=0.05329484866703377, fit_intercept=True, l1_ratio=0.1)\n",
    "forest = RandomForestClassifier(n_estimators=366, min_samples_split=5, min_samples_leaf=1, max_leaf_nodes=29, max_depth=21)\n",
    "gb = GradientBoostingClassifier(ccp_alpha=8.860274703338875e-08, learning_rate=0.03, loss='deviance', max_depth=3, max_features='auto', max_leaf_nodes=26, min_samples_leaf=1, min_samples_split=5, n_estimators=299)"
   ]
  },
  {
   "cell_type": "code",
   "execution_count": 397,
   "metadata": {},
   "outputs": [
    {
     "name": "stdout",
     "output_type": "stream",
     "text": [
      "Combinazione migliore: {'weights': [1, 1, 1.2]}\n",
      "Punteggio migliore: 0.6947423991553284\n",
      "Test score: 0.7033038220686677\n"
     ]
    }
   ],
   "source": [
    "param_grid = {\n",
    "    'weights': [[1, 1, 1], [1.2, 1, 1], [1, 1.2, 1], [1, 1, 1.2]]\n",
    "    }\n",
    "gs = GridSearchCV(estimator= VotingClassifier(estimators=[('lr', lr), ('forest', forest), ('gb', gb)], voting='soft'), \n",
    "                  param_grid=param_grid,\n",
    "                  cv=3,\n",
    "                  scoring='accuracy')\n",
    "gs.fit(X_train_std, y_train)\n",
    "print(f'Combinazione migliore: {gs.best_params_}')\n",
    "print(f'Punteggio migliore: {gs.best_score_}')\n",
    "print(f'Test score: {gs.score(X_test_std, y_test)}')"
   ]
  },
  {
   "cell_type": "code",
   "execution_count": 120,
   "metadata": {},
   "outputs": [
    {
     "name": "stdout",
     "output_type": "stream",
     "text": [
      "1 0.7028719499028288\n",
      "2 0.7026560138199093\n",
      "3 0.7037356942345065\n",
      "4 0.7028719499028288\n",
      "5 0.7030878859857482\n",
      "6 0.7041675664003455\n",
      "7 0.7033038220686677\n",
      "8 0.7033038220686677\n",
      "9 0.7033038220686677\n",
      "10 0.7028719499028288\n"
     ]
    }
   ],
   "source": [
    "status = 0\n",
    "best = 0\n",
    "for x in range(10):\n",
    "    vc = VotingClassifier(estimators=[('lr', lr), ('forest', forest), ('gb', gb)], voting='soft', weights=[1, 1, 1.2])\n",
    "    vc.fit(X_train_std, y_train)\n",
    "    score = vc.score(X_test_std, y_test)\n",
    "    \n",
    "    status += 1\n",
    "    print(status, score)\n",
    "    \n",
    "    if score > best:\n",
    "        best = score\n",
    "        joblib.dump(vc, 'vc_clf_joblib')"
   ]
  },
  {
   "cell_type": "code",
   "execution_count": 23,
   "metadata": {},
   "outputs": [],
   "source": [
    "conn.close()"
   ]
  }
 ],
 "metadata": {
  "kernelspec": {
   "display_name": "Python 3.10.7 64-bit",
   "language": "python",
   "name": "python3"
  },
  "language_info": {
   "codemirror_mode": {
    "name": "ipython",
    "version": 3
   },
   "file_extension": ".py",
   "mimetype": "text/x-python",
   "name": "python",
   "nbconvert_exporter": "python",
   "pygments_lexer": "ipython3",
   "version": "3.10.7"
  },
  "orig_nbformat": 4,
  "vscode": {
   "interpreter": {
    "hash": "e5da1562388db7144884801324541e47d1d46659ed2943533e6859e6cf55c04f"
   }
  }
 },
 "nbformat": 4,
 "nbformat_minor": 2
}
