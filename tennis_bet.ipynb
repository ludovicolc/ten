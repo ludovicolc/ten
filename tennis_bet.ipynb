{
 "cells": [
  {
   "cell_type": "code",
   "execution_count": 47,
   "metadata": {},
   "outputs": [],
   "source": [
    "import pandas as pd\n",
    "import numpy as np\n",
    "import matplotlib.pyplot as plt\n",
    "import scipy\n",
    "import psycopg2\n",
    "# ML\n",
    "from sklearn.model_selection import train_test_split, GridSearchCV, RandomizedSearchCV\n",
    "from sklearn.preprocessing import LabelEncoder, StandardScaler\n",
    "from sklearn.ensemble import RandomForestClassifier, GradientBoostingClassifier, VotingClassifier\n",
    "from sklearn.linear_model import LogisticRegression\n",
    "from sklearn.metrics import plot_confusion_matrix, classification_report\n",
    "import joblib\n",
    "# elementi disturbo\n",
    "import warnings\n",
    "warnings.filterwarnings('ignore')"
   ]
  },
  {
   "cell_type": "code",
   "execution_count": 15,
   "metadata": {},
   "outputs": [],
   "source": [
    "# connessione al database\n",
    "conn = psycopg2.connect(host='', user='', database='', password='')"
   ]
  },
  {
   "cell_type": "code",
   "execution_count": 17,
   "metadata": {},
   "outputs": [
    {
     "data": {
      "text/html": [
       "<div>\n",
       "<style scoped>\n",
       "    .dataframe tbody tr th:only-of-type {\n",
       "        vertical-align: middle;\n",
       "    }\n",
       "\n",
       "    .dataframe tbody tr th {\n",
       "        vertical-align: top;\n",
       "    }\n",
       "\n",
       "    .dataframe thead th {\n",
       "        text-align: right;\n",
       "    }\n",
       "</style>\n",
       "<table border=\"1\" class=\"dataframe\">\n",
       "  <thead>\n",
       "    <tr style=\"text-align: right;\">\n",
       "      <th></th>\n",
       "      <th>a_b365</th>\n",
       "      <th>a_ps</th>\n",
       "      <th>a_pts</th>\n",
       "      <th>a_rank</th>\n",
       "      <th>b_b365</th>\n",
       "      <th>b_ps</th>\n",
       "      <th>b_pts</th>\n",
       "      <th>b_rank</th>\n",
       "      <th>date</th>\n",
       "      <th>location</th>\n",
       "      <th>round</th>\n",
       "      <th>vincitore</th>\n",
       "      <th>a_hand</th>\n",
       "      <th>a_dob</th>\n",
       "      <th>a_ioc</th>\n",
       "      <th>a_height</th>\n",
       "      <th>b_hand</th>\n",
       "      <th>b_dob</th>\n",
       "      <th>b_ioc</th>\n",
       "      <th>b_height</th>\n",
       "    </tr>\n",
       "  </thead>\n",
       "  <tbody>\n",
       "    <tr>\n",
       "      <th>26081</th>\n",
       "      <td>3.75</td>\n",
       "      <td>4.09</td>\n",
       "      <td>753.0</td>\n",
       "      <td>45.0</td>\n",
       "      <td>1.25</td>\n",
       "      <td>1.295</td>\n",
       "      <td>1370.0</td>\n",
       "      <td>22.0</td>\n",
       "      <td>3.0</td>\n",
       "      <td>nord_america</td>\n",
       "      <td>2nd Round</td>\n",
       "      <td>A</td>\n",
       "      <td>R</td>\n",
       "      <td>26.0</td>\n",
       "      <td>ARG</td>\n",
       "      <td>190.0</td>\n",
       "      <td>R</td>\n",
       "      <td>27.0</td>\n",
       "      <td>AUS</td>\n",
       "      <td>180.0</td>\n",
       "    </tr>\n",
       "    <tr>\n",
       "      <th>35019</th>\n",
       "      <td>1.36</td>\n",
       "      <td>1.55</td>\n",
       "      <td>335.0</td>\n",
       "      <td>164.0</td>\n",
       "      <td>3.00</td>\n",
       "      <td>2.610</td>\n",
       "      <td>622.0</td>\n",
       "      <td>80.0</td>\n",
       "      <td>2.0</td>\n",
       "      <td>nord_america</td>\n",
       "      <td>1st Round</td>\n",
       "      <td>A</td>\n",
       "      <td>R</td>\n",
       "      <td>44.0</td>\n",
       "      <td>USA</td>\n",
       "      <td>178.0</td>\n",
       "      <td>L</td>\n",
       "      <td>31.0</td>\n",
       "      <td>BRA</td>\n",
       "      <td>175.0</td>\n",
       "    </tr>\n",
       "  </tbody>\n",
       "</table>\n",
       "</div>"
      ],
      "text/plain": [
       "       a_b365  a_ps  a_pts  a_rank  b_b365   b_ps   b_pts  b_rank  date  \\\n",
       "26081    3.75  4.09  753.0    45.0    1.25  1.295  1370.0    22.0   3.0   \n",
       "35019    1.36  1.55  335.0   164.0    3.00  2.610   622.0    80.0   2.0   \n",
       "\n",
       "           location      round vincitore a_hand  a_dob a_ioc  a_height b_hand  \\\n",
       "26081  nord_america  2nd Round         A      R   26.0   ARG     190.0      R   \n",
       "35019  nord_america  1st Round         A      R   44.0   USA     178.0      L   \n",
       "\n",
       "       b_dob b_ioc  b_height  \n",
       "26081   27.0   AUS     180.0  \n",
       "35019   31.0   BRA     175.0  "
      ]
     },
     "execution_count": 17,
     "metadata": {},
     "output_type": "execute_result"
    }
   ],
   "source": [
    "df_ten = pd.read_sql('select * from df_ten', conn)\n",
    "df_ten.sample(2)"
   ]
  },
  {
   "cell_type": "code",
   "execution_count": 18,
   "metadata": {},
   "outputs": [
    {
     "name": "stdout",
     "output_type": "stream",
     "text": [
      "<class 'pandas.core.frame.DataFrame'>\n",
      "RangeIndex: 46304 entries, 0 to 46303\n",
      "Data columns (total 20 columns):\n",
      " #   Column     Non-Null Count  Dtype  \n",
      "---  ------     --------------  -----  \n",
      " 0   a_b365     46304 non-null  float64\n",
      " 1   a_ps       46304 non-null  float64\n",
      " 2   a_pts      46304 non-null  float64\n",
      " 3   a_rank     46304 non-null  float64\n",
      " 4   b_b365     46304 non-null  float64\n",
      " 5   b_ps       46304 non-null  float64\n",
      " 6   b_pts      46304 non-null  float64\n",
      " 7   b_rank     46304 non-null  float64\n",
      " 8   date       46304 non-null  float64\n",
      " 9   location   46304 non-null  object \n",
      " 10  round      46304 non-null  object \n",
      " 11  vincitore  46304 non-null  object \n",
      " 12  a_hand     46304 non-null  object \n",
      " 13  a_dob      46304 non-null  float64\n",
      " 14  a_ioc      46304 non-null  object \n",
      " 15  a_height   46304 non-null  float64\n",
      " 16  b_hand     46304 non-null  object \n",
      " 17  b_dob      46304 non-null  float64\n",
      " 18  b_ioc      46304 non-null  object \n",
      " 19  b_height   46304 non-null  float64\n",
      "dtypes: float64(13), object(7)\n",
      "memory usage: 7.1+ MB\n"
     ]
    }
   ],
   "source": [
    "df_ten.info()"
   ]
  },
  {
   "cell_type": "markdown",
   "metadata": {},
   "source": [
    "# Rielaborazione features"
   ]
  },
  {
   "cell_type": "code",
   "execution_count": 19,
   "metadata": {},
   "outputs": [],
   "source": [
    "# raggruppamento nazioni in continenti\n",
    "europa =  ['ESP', 'FRA', 'GER', 'RUS', 'ITA', 'CZE', 'CRO',\n",
    "       'SRB', 'SUI', 'GBR', 'BEL', 'AUT', 'SVK', 'NED', 'SWE', 'ROU',\n",
    "       'FIN', 'POR', 'POL', 'BUL', 'CYP', 'BLR', 'UKR', 'SLO', 'LAT', 'NOR',  'BIH', 'GRE',\n",
    "       'GEO', 'LUX', 'DEN', 'HUN', 'LTU', 'MDA', 'EST', 'IRL', 'BAR', 'ESA']\n",
    "sud_america= ['ARG', 'BRA', 'COL', 'URU', 'ECU', 'PER', 'CHI', 'BOL', 'MEX', 'PAR']\n",
    "nord_america= ['USA', 'CAN']\n",
    "africa = ['RSA', 'TUN', 'MAR', 'TUR', 'EGY', 'ALG', 'ZIM']\n",
    "asia = ['JPN', 'KAZ', 'UZB', 'ISR', 'IND', 'THA', 'KOR', 'ARM', 'CHN', 'TPE', 'PHI', 'MON', 'PAK']\n",
    "oceania = ['NZL', 'AUS']"
   ]
  },
  {
   "cell_type": "code",
   "execution_count": 20,
   "metadata": {},
   "outputs": [],
   "source": [
    "cont_a = []\n",
    "for x in df_ten.a_ioc:\n",
    "    if x in europa:\n",
    "        cont_a.append('europa')\n",
    "    elif x in sud_america:\n",
    "        cont_a.append('sud_america')\n",
    "    elif x in nord_america:\n",
    "        cont_a.append('nord_america')\n",
    "    elif x in africa:\n",
    "        cont_a.append('africa')\n",
    "    elif x in asia:\n",
    "        cont_a.append('asia')\n",
    "    else:\n",
    "        cont_a.append('oceania')\n",
    "\n",
    "df_ten.a_ioc = cont_a"
   ]
  },
  {
   "cell_type": "code",
   "execution_count": 21,
   "metadata": {},
   "outputs": [],
   "source": [
    "cont_b = []\n",
    "for x in df_ten.b_ioc:\n",
    "    if x in europa:\n",
    "        cont_b.append('europa')\n",
    "    elif x in sud_america:\n",
    "        cont_b.append('sud_america')\n",
    "    elif x in nord_america:\n",
    "        cont_b.append('nord_america')\n",
    "    elif x in africa:\n",
    "        cont_b.append('africa')\n",
    "    elif x in asia:\n",
    "        cont_b.append('asia')\n",
    "    else:\n",
    "        cont_b.append('oceania')\n",
    "\n",
    "df_ten.b_ioc = cont_b"
   ]
  },
  {
   "cell_type": "markdown",
   "metadata": {},
   "source": [
    "Per far si che il modello non dipenda in modo eccessivo dalla differenza nelle quote, viene costruita una nuova feature che identifica qual è il giocatore favorito"
   ]
  },
  {
   "cell_type": "code",
   "execution_count": 22,
   "metadata": {},
   "outputs": [],
   "source": [
    "# assegnazione pronostico definito dalle quote\n",
    "pron = []\n",
    "for x,y in zip(df_ten.a_b365, df_ten.b_b365):\n",
    "    if x < y:\n",
    "        pron.append(0)\n",
    "    else:\n",
    "        pron.append(1)\n",
    "\n",
    "df_ten['pronostico'] = pron"
   ]
  },
  {
   "cell_type": "code",
   "execution_count": 23,
   "metadata": {},
   "outputs": [],
   "source": [
    "# creazione 3 nuove feature\n",
    "# rispettivamente: differenza punti ATP, differenza Rank, differenza Età\n",
    "df_ten['diff_pts'] = df_ten.a_pts - df_ten.b_pts\n",
    "df_ten['diff_rank'] = df_ten.a_rank - df_ten.b_rank\n",
    "df_ten['diff_dob'] = df_ten.a_dob - df_ten.b_dob"
   ]
  },
  {
   "cell_type": "markdown",
   "metadata": {},
   "source": [
    "# Implementazione modello"
   ]
  },
  {
   "cell_type": "code",
   "execution_count": 24,
   "metadata": {},
   "outputs": [],
   "source": [
    "X, y = df_ten.drop(columns=['vincitore', 'a_ps', 'b_ps', 'a_b365', 'b_b365']), df_ten.vincitore"
   ]
  },
  {
   "cell_type": "code",
   "execution_count": 25,
   "metadata": {},
   "outputs": [],
   "source": [
    "X = pd.get_dummies(X, drop_first=True)"
   ]
  },
  {
   "cell_type": "code",
   "execution_count": 26,
   "metadata": {},
   "outputs": [],
   "source": [
    "le = LabelEncoder()\n",
    "y = le.fit_transform(y)"
   ]
  },
  {
   "cell_type": "code",
   "execution_count": 27,
   "metadata": {},
   "outputs": [],
   "source": [
    "X_train, X_test, y_train, y_test = train_test_split(X, y, test_size=0.1, stratify=y, random_state=1)"
   ]
  },
  {
   "cell_type": "code",
   "execution_count": 28,
   "metadata": {},
   "outputs": [
    {
     "data": {
      "image/png": "[encoded data removed]",
      "text/plain": [
       "<Figure size 1400x500 with 1 Axes>"
      ]
     },
     "metadata": {},
     "output_type": "display_data"
    }
   ],
   "source": [
    "# importanza features\n",
    "forest = RandomForestClassifier(n_estimators=200, max_depth=15)\n",
    "forest.fit(X_train, y_train)\n",
    "\n",
    "importanza = forest.feature_importances_\n",
    "indice = np.argsort(importanza)[::-1]\n",
    "\n",
    "plt.figure(figsize=(14, 5))\n",
    "plt.bar(range(X.shape[1]), importanza[indice])\n",
    "plt.xticks(range(X.shape[1]), X.columns[indice], rotation=90)\n",
    "plt.tight_layout()"
   ]
  },
  {
   "cell_type": "code",
   "execution_count": 29,
   "metadata": {},
   "outputs": [],
   "source": [
    "sca = StandardScaler()\n",
    "X_train_std = sca.fit_transform(X_train)\n",
    "X_test_std = sca.transform(X_test)"
   ]
  },
  {
   "cell_type": "code",
   "execution_count": 15,
   "metadata": {},
   "outputs": [
    {
     "data": {
      "text/plain": [
       "['standard_scaler_b_joblib']"
      ]
     },
     "execution_count": 15,
     "metadata": {},
     "output_type": "execute_result"
    }
   ],
   "source": [
    "joblib.dump(sca, 'standard_scaler_b_joblib')"
   ]
  },
  {
   "cell_type": "markdown",
   "metadata": {},
   "source": [
    "### Fine tuning per 3 algoritmi scelti"
   ]
  },
  {
   "cell_type": "code",
   "execution_count": 16,
   "metadata": {},
   "outputs": [
    {
     "name": "stdout",
     "output_type": "stream",
     "text": [
      "Combinazione migliore: {'C': 0.011793905366223798, 'fit_intercept': False, 'l1_ratio': 0.5}\n",
      "Punteggio migliore: 0.6936145705852711\n",
      "Test score: 0.7026560138199093\n"
     ]
    }
   ],
   "source": [
    "param_grid = {\n",
    "    'C': scipy.stats.loguniform(0.01, 100.0),\n",
    "    'fit_intercept': [True, False],\n",
    "    'l1_ratio': [0.1, 0.3, 0.5, 0.8, 1.0],\n",
    "    }\n",
    "\n",
    "rgs = RandomizedSearchCV(estimator=LogisticRegression(random_state=1, penalty='elasticnet', solver='saga'), \n",
    "                        param_distributions=param_grid,\n",
    "                        n_iter=50,\n",
    "                        scoring='accuracy',\n",
    "                        cv=3)\n",
    "\n",
    "rgs.fit(X_train_std, y_train)\n",
    "print(f'Combinazione migliore: {rgs.best_params_}')\n",
    "print(f'Punteggio migliore: {rgs.best_score_}')\n",
    "print(f'Test score: {rgs.score(X_test_std, y_test)}')"
   ]
  },
  {
   "cell_type": "code",
   "execution_count": 17,
   "metadata": {},
   "outputs": [
    {
     "name": "stdout",
     "output_type": "stream",
     "text": [
      "Combinazione migliore: {'n_estimators': 442, 'min_samples_split': 2, 'min_samples_leaf': 2, 'max_leaf_nodes': 25, 'max_depth': 11}\n",
      "Punteggio migliore: 0.6933506107071725\n",
      "Test score: 0.6983372921615202\n"
     ]
    }
   ],
   "source": [
    "param_grid = {\n",
    "    'max_depth': list(range(10, 25)),\n",
    "    'n_estimators': list(range(350, 450)),\n",
    "    'max_leaf_nodes': list(range(3, 30)),\n",
    "    'min_samples_leaf': [1, 2, 3, 4, 5],\n",
    "    'min_samples_split': [2, 3, 4, 5]\n",
    "    }\n",
    "\n",
    "rgs = RandomizedSearchCV(estimator=RandomForestClassifier(random_state=1), \n",
    "                        param_distributions=param_grid,\n",
    "                        n_iter=50,\n",
    "                        scoring='accuracy',\n",
    "                        cv=3)\n",
    "\n",
    "rgs.fit(X_train_std, y_train)\n",
    "print(f'Combinazione migliore: {rgs.best_params_}')\n",
    "print(f'Punteggio migliore: {rgs.best_score_}')\n",
    "print(f'Test score: {rgs.score(X_test_std, y_test)}')"
   ]
  },
  {
   "cell_type": "code",
   "execution_count": 18,
   "metadata": {},
   "outputs": [
    {
     "name": "stdout",
     "output_type": "stream",
     "text": [
      "Combinazione migliore: {'ccp_alpha': 9.6529659238075e-08, 'learning_rate': 0.07, 'loss': 'exponential', 'max_depth': 3, 'max_features': 'auto', 'max_leaf_nodes': 4, 'min_samples_leaf': 1, 'min_samples_split': 4, 'n_estimators': 400}\n",
      "Punteggio migliore: 0.6943584575144578\n",
      "Test score: 0.7037356942345065\n"
     ]
    }
   ],
   "source": [
    "param_grid = {\n",
    "    'ccp_alpha': scipy.stats.loguniform(0.00000008, 0.0000001),\n",
    "    'learning_rate': [0.03, 0.05, 0.07],\n",
    "    'loss': ['log_loss', 'deviance', 'exponential'],\n",
    "    'max_depth': [3, 6, 9, 12],\n",
    "    'max_features': [None, 'auto'],\n",
    "    'max_leaf_nodes': list(range(3, 30)),\n",
    "    'min_samples_leaf': [1, 2, 3, 4, 5],\n",
    "    'min_samples_split': [2, 3, 4, 5],\n",
    "    'n_estimators': list(range(250, 450))\n",
    "    }\n",
    "\n",
    "rgs = RandomizedSearchCV(estimator=GradientBoostingClassifier(random_state=1), \n",
    "                        param_distributions=param_grid,\n",
    "                        n_iter=30,\n",
    "                        scoring='accuracy',\n",
    "                        cv=3)\n",
    "\n",
    "rgs.fit(X_train_std, y_train)\n",
    "print(f'Combinazione migliore: {rgs.best_params_}')\n",
    "print(f'Punteggio migliore: {rgs.best_score_}')\n",
    "print(f'Test score: {rgs.score(X_test_std, y_test)}')"
   ]
  },
  {
   "cell_type": "code",
   "execution_count": 20,
   "metadata": {},
   "outputs": [],
   "source": [
    "lr = LogisticRegression(C=0.011793905366223798, fit_intercept=False, l1_ratio=0.5)\n",
    "forest = RandomForestClassifier(n_estimators=442, min_samples_split=2, min_samples_leaf=2, max_leaf_nodes=25, max_depth=11)\n",
    "gb = GradientBoostingClassifier(ccp_alpha=9.6529659238075e-08, learning_rate=0.07, loss='exponential', max_depth=3, max_features='auto', max_leaf_nodes=4,\n",
    "                                min_samples_leaf=1, min_samples_split=4, n_estimators=400)"
   ]
  },
  {
   "cell_type": "markdown",
   "metadata": {},
   "source": [
    "### Costruzione Voting Classifier con scelta 'soft' "
   ]
  },
  {
   "cell_type": "code",
   "execution_count": 23,
   "metadata": {},
   "outputs": [
    {
     "name": "stdout",
     "output_type": "stream",
     "text": [
      "Combinazione migliore: {'weights': [1.2, 1, 1]}\n",
      "Punteggio migliore: 0.6939745158735873\n",
      "Test score: 0.7030878859857482\n"
     ]
    }
   ],
   "source": [
    "param_grid = {\n",
    "    'weights': [[1, 1, 1], [1.2, 1, 1], [1, 1.2, 1], [1, 1, 1.2]]\n",
    "    }\n",
    "gs = GridSearchCV(estimator= VotingClassifier(estimators=[('lr', lr), ('forest', forest), ('gb', gb)], voting='soft'), \n",
    "                  param_grid=param_grid,\n",
    "                  cv=3,\n",
    "                  scoring='accuracy')\n",
    "gs.fit(X_train_std, y_train)\n",
    "print(f'Combinazione migliore: {gs.best_params_}')\n",
    "print(f'Punteggio migliore: {gs.best_score_}')\n",
    "print(f'Test score: {gs.score(X_test_std, y_test)}')"
   ]
  },
  {
   "cell_type": "code",
   "execution_count": 24,
   "metadata": {},
   "outputs": [
    {
     "name": "stdout",
     "output_type": "stream",
     "text": [
      "1 0.7037356942345065\n",
      "2 0.703951630317426\n",
      "3 0.7037356942345065\n",
      "4 0.7033038220686677\n",
      "5 0.7030878859857482\n",
      "6 0.703951630317426\n",
      "7 0.7037356942345065\n",
      "8 0.7037356942345065\n",
      "9 0.7037356942345065\n",
      "10 0.7041675664003455\n"
     ]
    }
   ],
   "source": [
    "# salvataggio miglior modello\n",
    "status = 0\n",
    "best = 0\n",
    "for x in range(10):\n",
    "    vc = VotingClassifier(estimators=[('lr', lr), ('forest', forest), ('gb', gb)], voting='soft', weights=[1, 1, 1.2])\n",
    "    vc.fit(X_train_std, y_train)\n",
    "    score = vc.score(X_test_std, y_test)\n",
    "    \n",
    "    status += 1\n",
    "    print(status, score)\n",
    "    \n",
    "    if score > best:\n",
    "        best = score\n",
    "        joblib.dump(vc, 'vc_b_clf_joblib')"
   ]
  },
  {
   "cell_type": "markdown",
   "metadata": {},
   "source": [
    "# Valutazione modello"
   ]
  },
  {
   "cell_type": "code",
   "execution_count": 37,
   "metadata": {},
   "outputs": [],
   "source": [
    "vc = joblib.load('vc_b_clf_joblib')\n",
    "vc.fit(X_train_std, y_train)\n",
    "y_pred = vc.predict(X_test_std)"
   ]
  },
  {
   "cell_type": "code",
   "execution_count": 46,
   "metadata": {},
   "outputs": [
    {
     "data": {
      "text/plain": [
       "<sklearn.metrics._plot.confusion_matrix.ConfusionMatrixDisplay at 0x206d745bca0>"
      ]
     },
     "execution_count": 46,
     "metadata": {},
     "output_type": "execute_result"
    },
    {
     "data": {
      "image/png": "[encoded data removed]",
      "text/plain": [
       "<Figure size 640x480 with 2 Axes>"
      ]
     },
     "metadata": {},
     "output_type": "display_data"
    }
   ],
   "source": [
    "plot_confusion_matrix(vc, X_test_std, y_test)"
   ]
  },
  {
   "cell_type": "code",
   "execution_count": 39,
   "metadata": {},
   "outputs": [
    {
     "name": "stdout",
     "output_type": "stream",
     "text": [
      "              precision    recall  f1-score   support\n",
      "\n",
      "           0       0.71      0.69      0.70      2323\n",
      "           1       0.70      0.72      0.71      2308\n",
      "\n",
      "    accuracy                           0.70      4631\n",
      "   macro avg       0.70      0.70      0.70      4631\n",
      "weighted avg       0.70      0.70      0.70      4631\n",
      "\n"
     ]
    }
   ],
   "source": [
    "print(classification_report(y_test, y_pred))"
   ]
  },
  {
   "cell_type": "code",
   "execution_count": 48,
   "metadata": {},
   "outputs": [],
   "source": [
    "conn.close()"
   ]
  }
 ],
 "metadata": {
  "kernelspec": {
   "display_name": "Python 3.10.7 64-bit",
   "language": "python",
   "name": "python3"
  },
  "language_info": {
   "codemirror_mode": {
    "name": "ipython",
    "version": 3
   },
   "file_extension": ".py",
   "mimetype": "text/x-python",
   "name": "python",
   "nbconvert_exporter": "python",
   "pygments_lexer": "ipython3",
   "version": "3.10.7"
  },
  "orig_nbformat": 4,
  "vscode": {
   "interpreter": {
    "hash": "e5da1562388db7144884801324541e47d1d46659ed2943533e6859e6cf55c04f"
   }
  }
 },
 "nbformat": 4,
 "nbformat_minor": 2
}
